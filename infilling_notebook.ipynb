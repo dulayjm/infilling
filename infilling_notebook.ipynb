{
 "cells": [
  {
   "cell_type": "code",
   "execution_count": 68,
   "metadata": {},
   "outputs": [],
   "source": [
    "from datetime import datetime\n",
    "import matplotlib.pyplot as plt\n",
    "import numpy as np\n",
    "import os\n",
    "import pandas as pd\n",
    "from PIL import Image\n",
    "from skimage import io, transform\n",
    "import time\n",
    "import torch\n",
    "import torch.nn as nn\n",
    "from torchvision import datasets, models, transforms"
   ]
  },
  {
   "cell_type": "code",
   "execution_count": 69,
   "metadata": {},
   "outputs": [],
   "source": [
    "# Configurations\n",
    "\n",
    "# Device\n",
    "device = torch.device(\"cuda:2\" if torch.cuda.is_available() else \"cpu\")\n",
    "\n",
    "# Num epochs\n",
    "num_epochs = 5\n",
    "\n",
    "# Optimizer\n",
    "optimizer = torch.optim.SGD(model.parameters(), lr=0.01, momentum=0.9)\n",
    "\n",
    "# Batch size\n",
    "batch_size = 32\n",
    "\n",
    "# Data set\n",
    "train_path = '/lab/vislab/DATA/CUB/images'\n",
    "\n",
    "# Loss function\n",
    "criterion = nn.TripletMarginLoss()\n",
    "\n",
    "# Model \n",
    "model = models.resnet18()"
   ]
  },
  {
   "cell_type": "code",
   "execution_count": 79,
   "metadata": {},
   "outputs": [],
   "source": [
    "# Data Loader\n",
    "\n",
    "# Transform\n",
    "transform =  transforms.Compose(\n",
    "            [transforms.Resize([256, 256]),\n",
    "                transforms.RandomCrop(224),\n",
    "                transforms.ToTensor(),\n",
    "                transforms.Normalize(mean=[0.485, 0.456, 0.406],\n",
    "                                  std=[0.229, 0.224, 0.225])])\n",
    "\n",
    "train_data = datasets.ImageFolder(train_path, transform)\n",
    "\n",
    "train_loader = torch.utils.data.DataLoader(train_data, batch_size=batch_size, shuffle=True, num_workers=4)"
   ]
  },
  {
   "cell_type": "code",
   "execution_count": 84,
   "metadata": {},
   "outputs": [],
   "source": [
    "def train_model():\n",
    "    \"\"\"generic function to train model\"\"\"\n",
    "    \n",
    "    optimizer.zero_grad()\n",
    "    train_loss = []\n",
    "    start_time = datetime.now()\n",
    "    \n",
    "    for epoch in range(num_epochs): \n",
    "        print(\"epoch num:\", epoch)\n",
    "        model.train()\n",
    "        \n",
    "        for idx, (imgs, labels) in enumerate(train_loader): \n",
    "            imgs, labels = imgs.to(device), labels.to(device)\n",
    "            output = model.forward(imgs)\n",
    "\n",
    "            loss = criterion(output, labels)\n",
    "            loss = Variable(loss, requires_grad = True)\n",
    "            \n",
    "            loss.backward()\n",
    "            optimizer.step()\n",
    "            \n",
    "            train_loss.append(loss)\n",
    "            \n",
    "        \n",
    "        time_elapsed = datetime.now() - start_time \n",
    "        print('Time elapsed (hh:mm:ss.ms) {}'.format(time_elapsed))\n",
    "        \n",
    "    return train_loss\n",
    "    "
   ]
  },
  {
   "cell_type": "code",
   "execution_count": null,
   "metadata": {},
   "outputs": [
    {
     "name": "stdout",
     "output_type": "stream",
     "text": [
      "epoch num: 0\n"
     ]
    }
   ],
   "source": [
    "# Run Script\n",
    "model.to(device)\n",
    "\n",
    "loss = train_model()\n",
    "print(loss[0], loss[-1])"
   ]
  },
  {
   "cell_type": "code",
   "execution_count": null,
   "metadata": {},
   "outputs": [],
   "source": [
    "# Visualization Script"
   ]
  }
 ],
 "metadata": {
  "kernelspec": {
   "display_name": "Python 3",
   "language": "python",
   "name": "python3"
  },
  "language_info": {
   "codemirror_mode": {
    "name": "ipython",
    "version": 3
   },
   "file_extension": ".py",
   "mimetype": "text/x-python",
   "name": "python",
   "nbconvert_exporter": "python",
   "pygments_lexer": "ipython3",
   "version": "3.7.6"
  }
 },
 "nbformat": 4,
 "nbformat_minor": 4
}
